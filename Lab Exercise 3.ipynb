{
 "cells": [
  {
   "cell_type": "markdown",
   "metadata": {},
   "source": [
    "<p style=\"font-family: Arial; font-size:3em;color:black;\"> Lab Exercise 3 </p>"
   ]
  },
  {
   "cell_type": "code",
   "execution_count": 1,
   "metadata": {},
   "outputs": [],
   "source": [
    "import numpy as np\n",
    "from numpy.linalg import inv\n",
    "from numpy.linalg import det"
   ]
  },
  {
   "cell_type": "code",
   "execution_count": 11,
   "metadata": {},
   "outputs": [
    {
     "name": "stdout",
     "output_type": "stream",
     "text": [
      "[[5 2 3]\n",
      " [6 1 3]\n",
      " [2 4 1]]\n",
      "[[5 2]\n",
      " [6 1]]\n",
      "[[1 3]\n",
      " [4 1]]\n"
     ]
    }
   ],
   "source": [
    "matrix_a = np.array([[5, 2, 3], [6, 1, 3], [2, 4, 1]])\n",
    "matrix_b = matrix_a[:2,:2]\n",
    "matrix_c = matrix_a[1:,1:]\n",
    "print(matrix_a)\n",
    "print(matrix_b)\n",
    "print(matrix_c)"
   ]
  },
  {
   "cell_type": "code",
   "execution_count": 15,
   "metadata": {},
   "outputs": [
    {
     "name": "stdout",
     "output_type": "stream",
     "text": [
      "[[ 4 -7  4]\n",
      " [ 5  6 -1]\n",
      " [-4  1  5]]\n"
     ]
    }
   ],
   "source": [
    "matrix_d = np.array([[4, -7, 4], [5, 6, -1], [-4, 2, 5]])\n",
    "print(matrix_d)"
   ]
  },
  {
   "cell_type": "code",
   "execution_count": 29,
   "metadata": {},
   "outputs": [
    {
     "name": "stdout",
     "output_type": "stream",
     "text": [
      "AD:\n",
      "[[ 18 -20  33]\n",
      " [ 17 -33  38]\n",
      " [ 24  11   9]]\n",
      "DA:\n",
      "[[-14  17  -5]\n",
      " [ 59  12  32]\n",
      " [ -4  13  -4]]\n",
      "Are they equal?  False\n"
     ]
    }
   ],
   "source": [
    "print(\"AD:\")\n",
    "print(np.matmul(matrix_a, matrix_d))\n",
    "print(\"DA:\")\n",
    "print(np.matmul(matrix_d, matrix_a))\n",
    "print(\"Are they equal? \", np.array_equal(np.matmul(matrix_a, matrix_d), np.matmul(matrix_d, matrix_a)))"
   ]
  },
  {
   "cell_type": "code",
   "execution_count": 55,
   "metadata": {},
   "outputs": [
    {
     "name": "stdout",
     "output_type": "stream",
     "text": [
      "|B| is:\n",
      "-7\n",
      "B^-1 is:\n",
      "[[-0.14285714  0.28571429]\n",
      " [ 0.85714286 -0.71428571]]\n",
      "According to numpy:\n",
      "|B| is:\n",
      "-6.999999999999998\n",
      "B^-1 is:\n",
      "[[-0.14285714  0.28571429]\n",
      " [ 0.85714286 -0.71428571]]\n",
      "These calculations agree\n"
     ]
    }
   ],
   "source": [
    "print(\"|B| is:\")\n",
    "print((5 * 1) - (6 * 2))\n",
    "print(\"B^-1 is:\")\n",
    "# calculated in excel, slowly\n",
    "b_inv = np.array([[-1, 2], [6, -5]]) / 7\n",
    "print(b_inv)\n",
    "print(\"According to numpy:\")\n",
    "print(\"|B| is:\")\n",
    "print(np.linalg.det(matrix_b))\n",
    "print(\"B^-1 is:\")\n",
    "print(np.linalg.inv(matrix_b))\n",
    "\n",
    "print(\"These calculations agree\")"
   ]
  },
  {
   "cell_type": "code",
   "execution_count": 63,
   "metadata": {},
   "outputs": [
    {
     "name": "stdout",
     "output_type": "stream",
     "text": [
      "[[ 1.00000000e+00  5.55111512e-17  1.11022302e-16]\n",
      " [-5.55111512e-17  1.00000000e+00 -2.77555756e-17]\n",
      " [ 5.55111512e-17 -1.11022302e-16  1.00000000e+00]]\n",
      "[[ 1.00000000e+00  2.35922393e-16  1.38777878e-17]\n",
      " [ 2.77555756e-17  1.00000000e+00 -3.46944695e-17]\n",
      " [ 0.00000000e+00  2.77555756e-17  1.00000000e+00]]\n",
      "These are similar to identity matrices but due to floating point error the zero values are slightly non-zero\n"
     ]
    }
   ],
   "source": [
    "d_inv = np.linalg.inv(matrix_d)\n",
    "print(np.matmul(matrix_d, d_inv))\n",
    "print(np.matmul(d_inv, matrix_d))\n",
    "print(\"These are similar to identity matrices but due to floating point error the zero values are slightly non-zero\")"
   ]
  },
  {
   "cell_type": "code",
   "execution_count": null,
   "metadata": {},
   "outputs": [],
   "source": []
  }
 ],
 "metadata": {
  "kernelspec": {
   "display_name": "Python [conda env:base] *",
   "language": "python",
   "name": "conda-base-py"
  },
  "language_info": {
   "codemirror_mode": {
    "name": "ipython",
    "version": 3
   },
   "file_extension": ".py",
   "mimetype": "text/x-python",
   "name": "python",
   "nbconvert_exporter": "python",
   "pygments_lexer": "ipython3",
   "version": "3.12.7"
  }
 },
 "nbformat": 4,
 "nbformat_minor": 4
}

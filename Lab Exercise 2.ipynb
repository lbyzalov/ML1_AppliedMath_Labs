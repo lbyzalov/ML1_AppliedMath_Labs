{
 "cells": [
  {
   "cell_type": "markdown",
   "metadata": {},
   "source": [
    "## <p style=\"font-family: Arial; font-size:3em;color:black;\"> Lab Exercise 2 </p>"
   ]
  },
  {
   "cell_type": "code",
   "execution_count": 57,
   "metadata": {},
   "outputs": [
    {
     "data": {
      "image/png": "[encoded data removed]",
      "text/plain": [
       "<Figure size 640x480 with 1 Axes>"
      ]
     },
     "metadata": {},
     "output_type": "display_data"
    }
   ],
   "source": [
    "%matplotlib inline\n",
    "import numpy as np\n",
    "import matplotlib.pyplot as plt\n",
    "\n",
    "# # of hours a AI student spends on their courses in a month\n",
    "np.random.seed(10)\n",
    "no_hours = np.random.normal(50.0, 25.0, 100000)\n",
    "\n",
    "plt.hist(no_hours, 50)\n",
    "plt.show()"
   ]
  },
  {
   "cell_type": "code",
   "execution_count": 59,
   "metadata": {},
   "outputs": [
    {
     "name": "stdout",
     "output_type": "stream",
     "text": [
      "The mean of the above data is  49.92553962648416 , the standard deviation is  24.985473823652864 , and the variance is  624.2739021924424\n",
      "The standard deviation is the square root of the variance. Experimentally, the stdev squared is:  624.2739021924425 , \n",
      "which is almost the same as the variance - the difference can be explained by float precision errors.\n"
     ]
    }
   ],
   "source": [
    "# Calculate and report the mean, std, and var of the data shown above.\n",
    "print(\"The mean of the above data is \", no_hours.mean(), \", the standard deviation is \", no_hours.std(), \", and the variance is \", no_hours.var())\n",
    "# What is the theoretical relationship between std and var? Do the numbers reperted in the previous step agree with your expectation?\n",
    "print(\"The standard deviation is the square root of the variance. Experimentally, the stdev squared is: \", no_hours.std() ** 2, \", \\nwhich is almost the same as the variance - the difference can be explained by float precision errors.\")\n",
    "# Begin changing the different parameters on the normal function, discuss your observations as you change each input parameter."
   ]
  },
  {
   "cell_type": "code",
   "execution_count": 61,
   "metadata": {},
   "outputs": [
    {
     "name": "stdout",
     "output_type": "stream",
     "text": [
      "If you increase or decrease the mean of the function, the whole plot slides left and right.\n",
      "If you increase or decrease the std, the calculated std changes accordingly, as does the variance (by the square of the change).\n",
      "In effect, the entire graph gets wider or narrower.\n",
      "If you decrease the number of entries, the graph gets shorter and more noise, and all the calculated values are more likely \n",
      "to diverge from the initial values\n",
      "If you increase the number of entries, the graph gets taller and less noisy, and all the calculated values get closer to the initial values\n"
     ]
    }
   ],
   "source": [
    "print(\"If you increase or decrease the mean of the function, the whole plot slides left and right.\")\n",
    "print(\"If you increase or decrease the std, the calculated std changes accordingly, as does the variance (by the square of the change).\\nIn effect, the entire graph gets wider or narrower.\")\n",
    "print(\"If you decrease the number of entries, the graph gets shorter and more noise, and all the calculated values are more likely \\nto diverge from the initial values\")\n",
    "print(\"If you increase the number of entries, the graph gets taller and less noisy, and all the calculated values get closer to the initial values\")"
   ]
  },
  {
   "cell_type": "code",
   "execution_count": null,
   "metadata": {},
   "outputs": [],
   "source": []
  }
 ],
 "metadata": {
  "kernelspec": {
   "display_name": "Python [conda env:base] *",
   "language": "python",
   "name": "conda-base-py"
  },
  "language_info": {
   "codemirror_mode": {
    "name": "ipython",
    "version": 3
   },
   "file_extension": ".py",
   "mimetype": "text/x-python",
   "name": "python",
   "nbconvert_exporter": "python",
   "pygments_lexer": "ipython3",
   "version": "3.12.7"
  }
 },
 "nbformat": 4,
 "nbformat_minor": 4
}

{
 "cells": [
  {
   "cell_type": "markdown",
   "metadata": {},
   "source": [
    "<p style=\"font-family: Arial; font-size:3em;color:black;\"> Lab Exercise 1 </p>"
   ]
  },
  {
   "cell_type": "code",
   "execution_count": 19,
   "metadata": {},
   "outputs": [],
   "source": [
    "# importing numpy\n",
    "import numpy as np"
   ]
  },
  {
   "cell_type": "code",
   "execution_count": 21,
   "metadata": {},
   "outputs": [
    {
     "name": "stdout",
     "output_type": "stream",
     "text": [
      "[1 2 3 4 5 0]\n",
      "False\n"
     ]
    }
   ],
   "source": [
    "# Create a numpy array with the elements \"1, 2, 3, 5, 0\", print the array and test if all of its elements are non-zero.\n",
    "array1 = np.array([1, 2, 3, 4, 5, 0])\n",
    "print(array1)\n",
    "print(array1.all())"
   ]
  },
  {
   "cell_type": "code",
   "execution_count": 23,
   "metadata": {},
   "outputs": [
    {
     "name": "stdout",
     "output_type": "stream",
     "text": [
      "[ 3 -1  3  7  2]\n",
      "True\n"
     ]
    }
   ],
   "source": [
    "# Create a numpy array with the elements \"3, -1, 3, 7, 2\", print the array and test if any of its elements is non-zero.\n",
    "array2 = np.array([3, -1, 3, 7, 2])\n",
    "print(array2)\n",
    "print(array2.any())"
   ]
  },
  {
   "cell_type": "code",
   "execution_count": 25,
   "metadata": {},
   "outputs": [
    {
     "name": "stdout",
     "output_type": "stream",
     "text": [
      "[0 0 0 0]\n",
      "False\n"
     ]
    }
   ],
   "source": [
    "# Create a numpy array with the elements \"0, 0, 0, 0\", print the array and test if any of its elements is non-zero.\n",
    "array3 = np.zeros(4, dtype=int)\n",
    "print(array3)\n",
    "print(array3.any())"
   ]
  },
  {
   "cell_type": "code",
   "execution_count": 33,
   "metadata": {},
   "outputs": [
    {
     "name": "stdout",
     "output_type": "stream",
     "text": [
      "[56 -2  7]\n",
      "12\n"
     ]
    }
   ],
   "source": [
    "# Create a numpy array with the elements \"56, -2, 7\", print the array and the amount of memory required to store it.\n",
    "array4 = np.array([56, -2, 7])\n",
    "print(array4)\n",
    "print(array4.itemsize * array4.size)"
   ]
  },
  {
   "cell_type": "code",
   "execution_count": 45,
   "metadata": {},
   "outputs": [
    {
     "name": "stdout",
     "output_type": "stream",
     "text": [
      "[0 0 0 0 0 0 0 0 0 0]\n",
      "[1 1 1 1 1 1]\n",
      "[3 3 3 3 3 3 3 3 3 3 3 3]\n"
     ]
    }
   ],
   "source": [
    "# Create a numpy array with 10 zeros and print the array.\n",
    "array5 = np.zeros(10, dtype=int)\n",
    "print(array5)\n",
    "# Create a numpy array with 6 ones and print the array.\n",
    "array6 = np.ones(6, dtype=int)\n",
    "print(array6)\n",
    "# Create a numpy array with 12 '3's and print the array. [3 3 3 3 3 3 3 3 3 3 3 3]\n",
    "array7 = 3 * np.ones(12, dtype=int)\n",
    "print(array7)"
   ]
  },
  {
   "cell_type": "code",
   "execution_count": 49,
   "metadata": {},
   "outputs": [
    {
     "name": "stdout",
     "output_type": "stream",
     "text": [
      "[ 8  9 10 11 12 13 14 15 16 17 18 19 20]\n",
      "[ 8 10 12 14 16 18 20]\n"
     ]
    }
   ],
   "source": [
    "# Create a numpy array of the integers from 8 to 20 and print the array. (make sure 20 itself is included) hint:  use \"arange\" method\n",
    "array8 = np.arange(8, 21)\n",
    "print(array8)\n",
    "# Create a numpy array of the even integers from 8 to 20 and print the array. (make sure 20 itself is included)   hint:  use \"arange\" method\n",
    "array9 = np.arange(8, 21, 2)\n",
    "print(array9)"
   ]
  },
  {
   "cell_type": "code",
   "execution_count": 63,
   "metadata": {},
   "outputs": [
    {
     "name": "stdout",
     "output_type": "stream",
     "text": [
      "First array\n",
      "1.9512099249363792\n",
      "3.283382642268638\n",
      "0.5942551648784109\n",
      "0.5374627059795839\n",
      "Second array\n",
      "2.0034009276965734\n",
      "3.3941756646155703\n",
      "0.6048957175586294\n",
      "0.5130634196138566\n",
      "Third array\n",
      "2.000020673338195\n",
      "4.66937242971758\n",
      "-0.3911789430358805\n",
      "0.4995480918052856\n",
      "The more elements, the more the mean and std of the random array approaches the theoretically 'perfect' intended values\n"
     ]
    }
   ],
   "source": [
    "# Create a numpy array consisting of 100 random elements from normal distribution with mean of 2 and std of 0.5. Print the mean, max, min and std of the array.\n",
    "rarray1 = np.random.normal(2, 0.5, 100)\n",
    "print(\"First array\")\n",
    "print(rarray1.mean())\n",
    "print(rarray1.max())\n",
    "print(rarray1.min())\n",
    "print(rarray1.std())\n",
    "# Create a numpy array consisting of 1000 random elements from normal distribution with mean of 2 and std of 0.5. Print the mean, max, min and std of the array.\n",
    "rarray2 = np.random.normal(2, 0.5, 1000)\n",
    "print(\"Second array\")\n",
    "print(rarray2.mean())\n",
    "print(rarray2.max())\n",
    "print(rarray2.min())\n",
    "print(rarray2.std())\n",
    "# Create a numpy array consisting of 1000000 random elements from normal distribution with mean of 2 and std of 0.5. Print the mean, max, min and std of the array.\n",
    "rarray3 = np.random.normal(2, 0.5, 1000000)\n",
    "print(\"Third array\")\n",
    "print(rarray3.mean())\n",
    "print(rarray3.max())\n",
    "print(rarray3.min())\n",
    "print(rarray3.std())\n",
    "# (Bonus question) Looking at the three above examples with 1000, 5000, and 10000 random elements, do you have any observations about mean and std values?\n",
    "print(\"The more elements, the more the mean and std of the random array approaches the theoretically 'perfect' intended values\")"
   ]
  },
  {
   "cell_type": "code",
   "execution_count": null,
   "metadata": {},
   "outputs": [],
   "source": []
  }
 ],
 "metadata": {
  "kernelspec": {
   "display_name": "Python [conda env:base] *",
   "language": "python",
   "name": "conda-base-py"
  },
  "language_info": {
   "codemirror_mode": {
    "name": "ipython",
    "version": 3
   },
   "file_extension": ".py",
   "mimetype": "text/x-python",
   "name": "python",
   "nbconvert_exporter": "python",
   "pygments_lexer": "ipython3",
   "version": "3.12.7"
  }
 },
 "nbformat": 4,
 "nbformat_minor": 4
}
